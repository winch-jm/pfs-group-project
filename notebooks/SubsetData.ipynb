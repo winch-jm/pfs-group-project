{
 "cells": [
  {
   "cell_type": "code",
   "execution_count": 1,
   "id": "6156133a",
   "metadata": {},
   "outputs": [],
   "source": [
    "import scanpy as sc\n",
    "from cmapPy.pandasGEXpress.parse import parse"
   ]
  },
  {
   "cell_type": "code",
   "execution_count": 3,
   "id": "033cc346",
   "metadata": {},
   "outputs": [
    {
     "name": "stderr",
     "output_type": "stream",
     "text": [
      "/opt/anaconda3/envs/pfs/lib/python3.12/site-packages/cmapPy/pandasGEXpress/parse_gctx.py:275: FutureWarning: errors='ignore' is deprecated and will raise in a future version. Use to_numeric without passing `errors` and catch exceptions explicitly instead\n",
      "  meta_df = meta_df.apply(lambda x: pd.to_numeric(x, errors=\"ignore\"))\n",
      "/opt/anaconda3/envs/pfs/lib/python3.12/site-packages/cmapPy/pandasGEXpress/parse_gctx.py:275: FutureWarning: errors='ignore' is deprecated and will raise in a future version. Use to_numeric without passing `errors` and catch exceptions explicitly instead\n",
      "  meta_df = meta_df.apply(lambda x: pd.to_numeric(x, errors=\"ignore\"))\n"
     ]
    }
   ],
   "source": [
    "parse_gctx = parse(\"../data/level5_beta_ctl_n58022x12328.gctx\")"
   ]
  },
  {
   "cell_type": "code",
   "execution_count": 12,
   "id": "61dbdaa7",
   "metadata": {},
   "outputs": [],
   "source": [
    "parse_gctx.data_df.T.sample(frac=0.01).to_csv('../data/ctl_subset.csv')"
   ]
  }
 ],
 "metadata": {
  "kernelspec": {
   "display_name": "pfs",
   "language": "python",
   "name": "python3"
  },
  "language_info": {
   "codemirror_mode": {
    "name": "ipython",
    "version": 3
   },
   "file_extension": ".py",
   "mimetype": "text/x-python",
   "name": "python",
   "nbconvert_exporter": "python",
   "pygments_lexer": "ipython3",
   "version": "3.12.11"
  }
 },
 "nbformat": 4,
 "nbformat_minor": 5
}
